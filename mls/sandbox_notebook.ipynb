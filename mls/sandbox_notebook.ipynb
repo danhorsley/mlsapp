{
 "cells": [
  {
   "cell_type": "code",
   "execution_count": 5,
   "id": "8baa473f",
   "metadata": {},
   "outputs": [],
   "source": [
    "from mlsapp.models import *\n",
    "import django\n",
    "import os\n",
    "os.environ.setdefault('DJANGO_SETTINGS_MODULE', 'rest.settings')\n",
    "os.environ[\"DJANGO_ALLOW_ASYNC_UNSAFE\"] = \"true\"\n",
    "django.setup()"
   ]
  },
  {
   "cell_type": "code",
   "execution_count": 6,
   "id": "bd05a18d",
   "metadata": {},
   "outputs": [],
   "source": [
    "isbns = list(set([x[0] for x in InvoiceData.objects.all().values_list('book_id')]))"
   ]
  },
  {
   "cell_type": "code",
   "execution_count": 31,
   "id": "13f493dc",
   "metadata": {},
   "outputs": [],
   "source": [
    "def numfix(z):\n",
    "    if isinstance(z,float):\n",
    "        return z\n",
    "    elif isinstance(z,int):\n",
    "        return z\n",
    "    else:\n",
    "        return re.sub('[^0-9.]', '', z)"
   ]
  },
  {
   "cell_type": "code",
   "execution_count": 29,
   "id": "5f3ee62b",
   "metadata": {},
   "outputs": [],
   "source": [
    "import re\n",
    "import pandas as pd"
   ]
  },
  {
   "cell_type": "code",
   "execution_count": 27,
   "id": "3192c320",
   "metadata": {},
   "outputs": [
    {
     "data": {
      "text/plain": [
       "'3.5'"
      ]
     },
     "execution_count": 27,
     "metadata": {},
     "output_type": "execute_result"
    }
   ],
   "source": [
    "numfix('ad3a.d5z')"
   ]
  },
  {
   "cell_type": "code",
   "execution_count": 30,
   "id": "12cf23bb",
   "metadata": {},
   "outputs": [],
   "source": [
    "x = pd.Series([1,2,3,'xf3x.t53'])"
   ]
  },
  {
   "cell_type": "code",
   "execution_count": 32,
   "id": "6cc4237f",
   "metadata": {},
   "outputs": [
    {
     "data": {
      "text/plain": [
       "0       1\n",
       "1       2\n",
       "2       3\n",
       "3    3.53\n",
       "dtype: object"
      ]
     },
     "execution_count": 32,
     "metadata": {},
     "output_type": "execute_result"
    }
   ],
   "source": [
    "x.apply(lambda z:  numfix(z))"
   ]
  },
  {
   "cell_type": "code",
   "execution_count": null,
   "id": "d63d94c4",
   "metadata": {},
   "outputs": [],
   "source": []
  }
 ],
 "metadata": {
  "kernelspec": {
   "display_name": "Django Shell-Plus",
   "language": "python",
   "name": "django_extensions"
  },
  "language_info": {
   "codemirror_mode": {
    "name": "ipython",
    "version": 3
   },
   "file_extension": ".py",
   "mimetype": "text/x-python",
   "name": "python",
   "nbconvert_exporter": "python",
   "pygments_lexer": "ipython3",
   "version": "3.9.7"
  }
 },
 "nbformat": 4,
 "nbformat_minor": 5
}
