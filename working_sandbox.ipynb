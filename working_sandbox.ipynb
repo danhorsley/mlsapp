{
 "cells": [
  {
   "cell_type": "code",
   "execution_count": 1,
   "metadata": {},
   "outputs": [],
   "source": [
    "#run this from terminal with python manage.py shell_plus --notebook\n",
    "import os\n",
    "import django\n",
    "from django.conf import settings\n",
    "\n",
    "# Set the Django settings module to your project's settings\n",
    "os.environ[\"DJANGO_SETTINGS_MODULE\"] = \"mls.settings\"\n",
    "os.environ[\"DJANGO_ALLOW_ASYNC_UNSAFE\"] = \"true\"\n",
    "\n",
    "django.setup()"
   ]
  },
  {
   "cell_type": "code",
   "execution_count": 2,
   "metadata": {},
   "outputs": [],
   "source": [
    "from mls.wsagg import *"
   ]
  },
  {
   "cell_type": "code",
   "execution_count": 3,
   "metadata": {},
   "outputs": [
    {
     "data": {
      "text/plain": [
       "{'66': ['14999.75', '22700.62', '51.34%', 438, '42.78%'],\n",
       " 'bestsellers': ['11301.10', '15054.89', '33.22%', 151, '80.29%'],\n",
       " 'bookmark': ['2283.40', '4219.16', '84.78%', 466, '66.40%'],\n",
       " 'boon': ['25261.50', '54397.73', '115.34%', 583, '72.21%'],\n",
       " 'ckingdom': ['1479.20', '2419.14', '63.54%', 281, '82.54%'],\n",
       " 'gardners': ['1005.12', '605.17', '-39.79%', 922, '-15.75%'],\n",
       " 'greatjones': ['995.46', '696.03', '-30.08%', 311, '-35.30%'],\n",
       " 'greenvale': ['7773.14', '13348.58', '71.73%', 572, '45.77%'],\n",
       " 'hardwick': ['4955.82', '8001.70', '61.46%', 757, '29.63%'],\n",
       " 'moonraker': ['1574.00', '1006.81', '-36.03%', 170, '-77.37%'],\n",
       " 'octagon': ['2551.00', '3597.74', '41.03%', 578, '25.91%'],\n",
       " 'poundwholesale': ['2903.35', '1012.02', '-65.14%', 777, '-30.60%'],\n",
       " 'pumpkin': ['239.62', '243.88', '1.78%', 579, '1.12%'],\n",
       " 'sassandbelle': ['1074.12', '496.52', '-53.77%', 895, '-21.93%'],\n",
       " 'strathearn': ['1382.47', '3490.18', '152.46%', 247, '225.30%'],\n",
       " 'texas': ['1933.62', '1806.17', '-6.59%', 225, '-10.69%']}"
      ]
     },
     "execution_count": 3,
     "metadata": {},
     "output_type": "execute_result"
    }
   ],
   "source": [
    "stats_by_supplier()"
   ]
  },
  {
   "cell_type": "code",
   "execution_count": null,
   "metadata": {},
   "outputs": [],
   "source": []
  }
 ],
 "metadata": {
  "kernelspec": {
   "display_name": "Python 3 (ipykernel)",
   "language": "python",
   "name": "python3"
  },
  "language_info": {
   "codemirror_mode": {
    "name": "ipython",
    "version": 3
   },
   "file_extension": ".py",
   "mimetype": "text/x-python",
   "name": "python",
   "nbconvert_exporter": "python",
   "pygments_lexer": "ipython3",
   "version": "3.8.5"
  }
 },
 "nbformat": 4,
 "nbformat_minor": 4
}
