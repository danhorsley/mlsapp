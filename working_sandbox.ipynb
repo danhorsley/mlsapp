{
 "cells": [
  {
   "cell_type": "code",
   "execution_count": 1,
   "metadata": {},
   "outputs": [],
   "source": [
    "#run this from terminal with python manage.py shell_plus --notebook\n",
    "import os\n",
    "import django\n",
    "from django.conf import settings\n",
    "\n",
    "# Set the Django settings module to your project's settings\n",
    "os.environ[\"DJANGO_SETTINGS_MODULE\"] = \"mls.settings\"\n",
    "os.environ[\"DJANGO_ALLOW_ASYNC_UNSAFE\"] = \"true\"\n",
    "\n",
    "django.setup()\n",
    "from mlsapp.models import InvoiceData, SalesData"
   ]
  },
  {
   "cell_type": "code",
   "execution_count": 2,
   "metadata": {},
   "outputs": [],
   "source": [
    "from django.db.models import Sum, F, ExpressionWrapper, fields, Func, Value\n",
    "from django.db.models.functions import Coalesce\n",
    "from datetime import date, datetime, timedelta"
   ]
  },
  {
   "cell_type": "code",
   "execution_count": 3,
   "metadata": {},
   "outputs": [],
   "source": [
    "from mls.wsagg import *"
   ]
  },
  {
   "cell_type": "code",
   "execution_count": 4,
   "metadata": {},
   "outputs": [],
   "source": [
    "invoice_data = InvoiceData.objects.order_by('date')"
   ]
  },
  {
   "cell_type": "code",
   "execution_count": 5,
   "metadata": {},
   "outputs": [
    {
     "data": {
      "text/plain": [
       "{'66': ['1.5e+04', '2.3e+04', '51.34%', 438, '42.78%'],\n",
       " 'bestsellers': ['1.1e+04', '1.5e+04', '33.22%', 151, '80.29%'],\n",
       " 'bookmark': ['2.3e+03', '4.2e+03', '84.78%', 466, '66.40%'],\n",
       " 'boon': ['2.5e+04', '5.4e+04', '115.34%', 583, '72.21%'],\n",
       " 'ckingdom': ['1.5e+03', '2.4e+03', '63.54%', 281, '82.54%'],\n",
       " 'gardners': ['1e+03', '6.1e+02', '-39.79%', 922, '-15.75%'],\n",
       " 'greatjones': ['1e+03', '7e+02', '-30.08%', 311, '-35.30%'],\n",
       " 'greenvale': ['7.8e+03', '1.3e+04', '71.73%', 572, '45.77%'],\n",
       " 'hardwick': ['5e+03', '8e+03', '61.46%', 757, '29.63%'],\n",
       " 'moonraker': ['1.6e+03', '1e+03', '-36.03%', 170, '-77.37%'],\n",
       " 'octagon': ['2.6e+03', '3.6e+03', '41.03%', 578, '25.91%'],\n",
       " 'poundwholesale': ['2.9e+03', '1e+03', '-65.14%', 777, '-30.60%'],\n",
       " 'pumpkin': ['2.4e+02', '2.4e+02', '1.78%', 579, '1.12%'],\n",
       " 'sassandbelle': ['1.1e+03', '5e+02', '-53.77%', 895, '-21.93%'],\n",
       " 'strathearn': ['1.4e+03', '3.5e+03', '152.46%', 247, '225.30%'],\n",
       " 'texas': ['1.9e+03', '1.8e+03', '-6.59%', 225, '-10.69%']}"
      ]
     },
     "execution_count": 5,
     "metadata": {},
     "output_type": "execute_result"
    }
   ],
   "source": [
    "stats_by_supplier()"
   ]
  },
  {
   "cell_type": "code",
   "execution_count": null,
   "metadata": {},
   "outputs": [],
   "source": []
  }
 ],
 "metadata": {
  "kernelspec": {
   "display_name": "Python 3 (ipykernel)",
   "language": "python",
   "name": "python3"
  },
  "language_info": {
   "codemirror_mode": {
    "name": "ipython",
    "version": 3
   },
   "file_extension": ".py",
   "mimetype": "text/x-python",
   "name": "python",
   "nbconvert_exporter": "python",
   "pygments_lexer": "ipython3",
   "version": "3.8.5"
  }
 },
 "nbformat": 4,
 "nbformat_minor": 4
}
